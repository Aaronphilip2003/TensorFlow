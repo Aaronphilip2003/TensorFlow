{
  "nbformat": 4,
  "nbformat_minor": 0,
  "metadata": {
    "colab": {
      "name": "Untitled0.ipynb",
      "provenance": [],
      "collapsed_sections": []
    },
    "kernelspec": {
      "name": "python3",
      "display_name": "Python 3"
    },
    "language_info": {
      "name": "python"
    }
  },
  "cells": [
    {
      "cell_type": "code",
      "execution_count": 1,
      "metadata": {
        "colab": {
          "base_uri": "https://localhost:8080/"
        },
        "id": "ftj0D45DWdLN",
        "outputId": "be9e4d94-c998-4913-da3a-ab4d4802b0a3"
      },
      "outputs": [
        {
          "output_type": "stream",
          "name": "stdout",
          "text": [
            "<module 'tensorflow._api.v2.version' from '/usr/local/lib/python3.7/dist-packages/tensorflow/_api/v2/version/__init__.py'>\n"
          ]
        }
      ],
      "source": [
        "import tensorflow as tf\n",
        "%tensorflow_version 2.x\n",
        "print(tf.version)\n",
        "import numpy as np"
      ]
    },
    {
      "cell_type": "code",
      "source": [
        "# variables in tensorflow\n",
        "string=tf.Variable(\"This is a tensorflow string\",tf.string)\n",
        "number=tf.Variable(120,tf.int16)\n",
        "floating_number=tf.Variable(1.234,tf.float32)"
      ],
      "metadata": {
        "id": "flZmQP5cW5M6"
      },
      "execution_count": 2,
      "outputs": []
    },
    {
      "cell_type": "markdown",
      "source": [
        "## Above are tensors of rank '0' also known as scalars"
      ],
      "metadata": {
        "id": "9Ck72IO7Y54D"
      }
    },
    {
      "cell_type": "code",
      "source": [
        "names=tf.Variable([\"Diana\",\"Damon\",\"Isabelle\"],tf.string)"
      ],
      "metadata": {
        "id": "VE342QLJZBN4"
      },
      "execution_count": 3,
      "outputs": []
    },
    {
      "cell_type": "markdown",
      "source": [
        "### 'names' is a tensor of rank/degree '1'"
      ],
      "metadata": {
        "id": "7HCsgsBrZmfY"
      }
    },
    {
      "cell_type": "code",
      "source": [
        "names2=tf.Variable([[\"Diana\",\"Damon\",\"Isabelle\"],[\"Elena\",\"Stefan\",\"Bonnie\"]],tf.string)\n",
        "names2\n",
        "# tf.rank(names2)"
      ],
      "metadata": {
        "colab": {
          "base_uri": "https://localhost:8080/"
        },
        "id": "mJdsyVlvZsXe",
        "outputId": "6dcb3a46-05a4-477f-facf-e5a782bce2d6"
      },
      "execution_count": 6,
      "outputs": [
        {
          "output_type": "execute_result",
          "data": {
            "text/plain": [
              "<tf.Variable 'Variable:0' shape=(2, 3) dtype=string, numpy=\n",
              "array([[b'Diana', b'Damon', b'Isabelle'],\n",
              "       [b'Elena', b'Stefan', b'Bonnie']], dtype=object)>"
            ]
          },
          "metadata": {},
          "execution_count": 6
        }
      ]
    },
    {
      "cell_type": "markdown",
      "source": [
        "### 'names2' is a tensor of rank/degree '2'"
      ],
      "metadata": {
        "id": "glDjdkPCaA2W"
      }
    },
    {
      "cell_type": "markdown",
      "source": [
        "# Reshaping Tensors in tensorflow"
      ],
      "metadata": {
        "id": "qgY68s3ucV5y"
      }
    },
    {
      "cell_type": "code",
      "source": [
        "tensor1=tf.ones([1,2,3]) # What this essentially means is to create 1 list [1] with 2 lists in it [2] and 3 elements within it [3]\n",
        "print(tensor1)"
      ],
      "metadata": {
        "colab": {
          "base_uri": "https://localhost:8080/"
        },
        "id": "bN5Lu6f0caIx",
        "outputId": "97b7cfaa-0252-476e-a894-9e7e67a95910"
      },
      "execution_count": 8,
      "outputs": [
        {
          "output_type": "stream",
          "name": "stdout",
          "text": [
            "tf.Tensor(\n",
            "[[[1. 1. 1.]\n",
            "  [1. 1. 1.]]], shape=(1, 2, 3), dtype=float32)\n"
          ]
        }
      ]
    },
    {
      "cell_type": "code",
      "source": [
        "tensor2=tf.reshape(tensor1,[3,2,1])\n",
        "print(tensor2)"
      ],
      "metadata": {
        "colab": {
          "base_uri": "https://localhost:8080/"
        },
        "id": "sad_6PF_c0bl",
        "outputId": "5c259bad-2209-451d-e320-8f94356cac23"
      },
      "execution_count": 9,
      "outputs": [
        {
          "output_type": "stream",
          "name": "stdout",
          "text": [
            "tf.Tensor(\n",
            "[[[1.]\n",
            "  [1.]]\n",
            "\n",
            " [[1.]\n",
            "  [1.]]\n",
            "\n",
            " [[1.]\n",
            "  [1.]]], shape=(3, 2, 1), dtype=float32)\n"
          ]
        }
      ]
    },
    {
      "cell_type": "code",
      "source": [
        "tensor3=tf.reshape(tensor1,[3,-1]) # -1 tells the tensor to calculate the size of the dimension in that place\n",
        "print(tensor3)"
      ],
      "metadata": {
        "colab": {
          "base_uri": "https://localhost:8080/"
        },
        "id": "uCyzPTI2dhmQ",
        "outputId": "7cc5b5df-5edc-413a-c9b0-7e5c033857ff"
      },
      "execution_count": 10,
      "outputs": [
        {
          "output_type": "stream",
          "name": "stdout",
          "text": [
            "tf.Tensor(\n",
            "[[1. 1.]\n",
            " [1. 1.]\n",
            " [1. 1.]], shape=(3, 2), dtype=float32)\n"
          ]
        }
      ]
    },
    {
      "cell_type": "code",
      "source": [
        "# 56:36 freecodecamp"
      ],
      "metadata": {
        "id": "auqj9-VAd8yC"
      },
      "execution_count": 11,
      "outputs": []
    },
    {
      "cell_type": "code",
      "source": [
        ""
      ],
      "metadata": {
        "id": "H4F3zWqxf96G"
      },
      "execution_count": null,
      "outputs": []
    },
    {
      "cell_type": "code",
      "source": [
        ""
      ],
      "metadata": {
        "id": "zQUhnVWdg2DT"
      },
      "execution_count": null,
      "outputs": []
    }
  ]
}